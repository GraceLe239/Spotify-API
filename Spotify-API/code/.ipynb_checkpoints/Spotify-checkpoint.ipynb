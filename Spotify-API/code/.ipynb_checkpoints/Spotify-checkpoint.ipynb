{
 "cells": [
  {
   "cell_type": "markdown",
   "metadata": {
    "id": "RGWBXJSau9ZH"
   },
   "source": [
    "# CS181 Final Project\n",
    "\n",
    "_Author: Grace Le_\n",
    "\n",
    "_Date: May 18th, 2021_"
   ]
  },
  {
   "cell_type": "markdown",
   "metadata": {
    "id": "fExo2On0u9ZQ"
   },
   "source": [
    "## Data from Spotify API\n",
    "\n",
    "The data for this project comes from Spotify, https://www.spotify.com. This provider has an API that allows us to retrieve users' following artists and related artists, which we will focus on in the data exploration and analysis step. \n",
    "\n",
    "To have the end user approve our app for access to their Spotify data and features, or to have our app fetch data from Spotify, we need to authorize our application via User Authorization. Spotify, as well as the user, grant our app permission to access and modify the user’s own data. "
   ]
  },
  {
   "cell_type": "markdown",
   "metadata": {
    "id": "vHdQC__Vu9ZS"
   },
   "source": [
    "__Set up: Importing Libraries__"
   ]
  },
  {
   "cell_type": "code",
   "execution_count": null,
   "metadata": {
    "colab": {
     "base_uri": "https://localhost:8080/",
     "height": 374
    },
    "executionInfo": {
     "elapsed": 399,
     "status": "error",
     "timestamp": 1644867374521,
     "user": {
      "displayName": "Uyen Le",
      "photoUrl": "https://lh3.googleusercontent.com/a-/AOh14GgbMvwFhO24j0GJLXKoG8ZNXvkmgaUxw0Dz4Fxeow=s64",
      "userId": "14011474571632892466"
     },
     "user_tz": 300
    },
    "id": "KjGOmTPwu9ZU",
    "outputId": "d923a05f-5680-46e8-d77c-d86155164c6d"
   },
   "outputs": [],
   "source": [
    "import os\n",
    "import sys\n",
    "import json\n",
    "import requests\n",
    "\n",
    "def add_modules():\n",
    "    \"\"\"\n",
    "    Starting at the current directory and proceeding up the file system\n",
    "    tree, search for a directory named `modules`.  If found, and if not\n",
    "    already there, add to the Python module search path.\n",
    "    Params: None\n",
    "    \n",
    "    Return: None\n",
    "    \"\"\"\n",
    "    directory = \".\"\n",
    "    levels = 0\n",
    "    while not os.path.isdir(os.path.join(directory, \"modules\")) and \\\n",
    "          levels < 5:\n",
    "        directory = os.path.join(directory, \"..\")\n",
    "        levels += 1\n",
    "    module_path = os.path.abspath(os.path.join(directory, \"modules\"))\n",
    "    if os.path.isdir(module_path):\n",
    "        if not module_path in sys.path:\n",
    "            sys.path.append(module_path)\n",
    "\n",
    "add_modules()\n",
    "import util\n",
    "datadir = util.resolve_dir(\".\")\n",
    "\n",
    "import importlib\n",
    "import webbrowser\n",
    "import base64\n",
    "from datetime import datetime, timedelta\n",
    "from requests.auth import HTTPBasicAuth"
   ]
  },
  {
   "cell_type": "markdown",
   "metadata": {
    "id": "MnErQOWXu9ZX"
   },
   "source": [
    "## User Authorization\n",
    "\n",
    "### Step 1: Request authorization from user\n",
    "\n",
    "In this step, our application sends a request to the Spotify Accounts service and user to grant us access to their data.\n",
    "\n",
    "* First of all, we need to create a `creds.json` file in our current directory to store our dictionary of credentials and then read the data to a variable `creds`. The data must contain a `client_id`, a `client_secret`, a `redirect_uri`, a space-separated list of `scope`, a `response_type` set to `code`, and an optional but recommended `state` that provides protection against attacks. `state` can be generated randomly as a string and then updated to the credential file. \n",
    "\n",
    "* Next, we __build a url request__ that asks user to authorize access with an authorization code that can be exchanged for an access token embedded in the redirected uri. Please __update__ the __code__ in the credential file to continue. "
   ]
  },
  {
   "cell_type": "code",
   "execution_count": null,
   "metadata": {
    "executionInfo": {
     "elapsed": 380,
     "status": "aborted",
     "timestamp": 1644867374508,
     "user": {
      "displayName": "Uyen Le",
      "photoUrl": "https://lh3.googleusercontent.com/a-/AOh14GgbMvwFhO24j0GJLXKoG8ZNXvkmgaUxw0Dz4Fxeow=s64",
      "userId": "14011474571632892466"
     },
     "user_tz": 300
    },
    "id": "TyfFpv-du9ZY"
   },
   "outputs": [],
   "source": [
    "creds = util.read_creds(\"spotify\")"
   ]
  },
  {
   "cell_type": "code",
   "execution_count": null,
   "metadata": {
    "id": "X6Qg_O9vu9ZZ"
   },
   "outputs": [],
   "source": [
    "def state_generation(keycreds, creds_dict):\n",
    "    \"\"\"\n",
    "    Generate a random string for 'state' and update credentials file. \n",
    "    Params:\n",
    "        keycreds: The key for the credentials.\n",
    "        creds_dict: The credential from creds.json file.\n",
    "    Return: None\n",
    "    \"\"\"\n",
    "    state = util.random_string()\n",
    "    creds['state'] = state\n",
    "    creds_dict = util.update_creds(keycreds, creds_dict)\n",
    "    return None"
   ]
  },
  {
   "cell_type": "code",
   "execution_count": null,
   "metadata": {
    "id": "-dlu-uOVu9Za"
   },
   "outputs": [],
   "source": [
    "def authorization(keycreds, creds_dict): \n",
    "    \"\"\"\n",
    "    Build a url request that asks user to authorize access within the scopes \n",
    "            and then returns to the redirect_uri with a code for access. \n",
    "    Params:\n",
    "        keycreds: The key for the credentials.\n",
    "        creds_dict: The credential from creds.json file.\n",
    "    Return the url request. \n",
    "    \"\"\"\n",
    "    state_generation(keycreds, creds_dict)\n",
    "    paramsD = {\n",
    "        'client_id' : creds_dict['client-id'],\n",
    "        'client_secret' : creds_dict['client-secret'],\n",
    "        'redirect_uri': creds_dict['redirect-url'],\n",
    "        'state': creds_dict['state'],\n",
    "        'scope': creds_dict['scope'],\n",
    "        'response_type': 'code'\n",
    "    }\n",
    "    url = util.buildURL(\"/authorize\", \"accounts.spotify.com\")\n",
    "    session = requests.Session()\n",
    "    req = requests.Request('GET', url, params=paramsD)\n",
    "    prepped = session.prepare_request(req)\n",
    "    user_url = prepped.url\n",
    "    return user_url"
   ]
  },
  {
   "cell_type": "code",
   "execution_count": null,
   "metadata": {
    "id": "iDevgiutu9Zc",
    "outputId": "cde5f6f3-44b1-4920-f8cf-ed70b4f37586"
   },
   "outputs": [],
   "source": [
    "authorization(\"spotify\", creds)"
   ]
  },
  {
   "cell_type": "markdown",
   "metadata": {
    "id": "rg6hQ0ppu9Ze"
   },
   "source": [
    "### Step 2: Request Refresh and Access Token\n",
    "\n",
    "When the authorization code has been received, we need to exchange it with an access token by making a POST request to the Spotify Accounts service, this time to its /api/token endpoint.\n",
    "\n",
    "* The body of this POST request must contain the following parameters encoded in ´application/x-www-form-urlencoded': a `grant_type` set to `authorization_code`, a `code` from the previous step, and our `redirect_uri`. \n",
    "\n",
    "* The header of this POST request contains a `Authorization` key that maps to a base 64 encoded string that contains the client ID and client secret key. \n",
    "\n",
    "The functions below construct the body and the header parameters for the request, then make a post request to the /api/token endpoint for the refresh and access token. "
   ]
  },
  {
   "cell_type": "code",
   "execution_count": null,
   "metadata": {
    "id": "qmyzzrjyu9Zf"
   },
   "outputs": [],
   "source": [
    "def token_body_params(keycreds): \n",
    "    \"\"\"\n",
    "    Create a body parameter for the post request based on the credentials from the credential file. \n",
    "    Params:\n",
    "        creds_dict: The credential from creds.json file.\n",
    "    Return the body parameter.\n",
    "    \"\"\"\n",
    "    creds_dict = util.read_creds(keycreds)\n",
    "    body_params = {\n",
    "        'grant_type': 'authorization_code', \n",
    "        'code': creds_dict['code'],\n",
    "        'redirect_uri': creds_dict['redirect-url']\n",
    "    }\n",
    "    return body_params"
   ]
  },
  {
   "cell_type": "code",
   "execution_count": null,
   "metadata": {
    "id": "P7w4djXcu9Zf"
   },
   "outputs": [],
   "source": [
    "def client_creds_b64(creds_dict):\n",
    "    \"\"\"\n",
    "    Create a header parameter based on client id and client secret in the credential file. \n",
    "    Params:\n",
    "        creds_dict: The credential from creds.json file.\n",
    "    Return the header parameter.\n",
    "    \"\"\"\n",
    "    client_creds = f\"{creds_dict['client-id']}:{creds_dict['client-secret']}\"\n",
    "    client_creds_b64 = base64.b64encode(client_creds.encode())\n",
    "    header_params = {\n",
    "        \"Authorization\": f\"Basic {client_creds_b64.decode()}\" \n",
    "    }\n",
    "    return header_params"
   ]
  },
  {
   "cell_type": "code",
   "execution_count": null,
   "metadata": {
    "id": "shb6pgiUu9Zg"
   },
   "outputs": [],
   "source": [
    "def token_dict_retrieve(keycreds, creds_dict):\n",
    "    \"\"\"\n",
    "    Get a token dictionary that contains refresh and access tokens \n",
    "            by making a post request to the /api/token endpoint and reading the response as a json object. \n",
    "    Params:\n",
    "        keycreds: The key for the credentials.\n",
    "        creds_dict: The credential from creds.json file.\n",
    "    Return the token dictionary.\n",
    "    \"\"\"\n",
    "    header_params = client_creds_b64(creds_dict)\n",
    "    body_params = token_body_params(keycreds)\n",
    "    \n",
    "    url = util.buildURL(\"/api/token\", \"accounts.spotify.com\")\n",
    "    response = requests.post(url, data=body_params, headers=header_params)\n",
    "    if response.status_code != 200:\n",
    "        print(\"Error.  Status code:\", response.status_code)\n",
    "        print(response.text)\n",
    "        \n",
    "    tokenD = response.json()\n",
    "    return tokenD\n",
    "\n",
    "tokenD = token_dict_retrieve(\"spotify\", creds)"
   ]
  },
  {
   "cell_type": "code",
   "execution_count": null,
   "metadata": {
    "id": "8Xqp5I02u9Zh"
   },
   "outputs": [],
   "source": [
    "def save_token_json(tokenD, keycreds, creds_dict): \n",
    "    \"\"\"\n",
    "    Updating the refresh and access token to the credential file. \n",
    "    Params:\n",
    "        tokenD: The token dictionary returned from the post request. \n",
    "        keycreds: The key for the credentials.\n",
    "        creds_dict: the credential file.\n",
    "    Return: None.\n",
    "    \"\"\"\n",
    "    creds_dict['token'] = tokenD['access_token']\n",
    "    creds_dict['refresh'] = tokenD['refresh_token']\n",
    "    creds_dict['scope'] = tokenD['scope']\n",
    "    expiration = datetime.now() + timedelta(seconds=tokenD['expires_in'])\n",
    "    creds_dict['expires'] = str(expiration)\n",
    "    creds = util.update_creds(keycreds, creds_dict)\n",
    "    return None"
   ]
  },
  {
   "cell_type": "markdown",
   "metadata": {
    "id": "7IrFjSWwu9Zh"
   },
   "source": [
    "### Step 3: Use the access token to access the Spotify Web API\n",
    "\n",
    "The access token allows you to make requests to the Spotify Web API on behalf of the user. This step can be done by doing a get request to the data endpoint `/v1/me/top/artists` to access users's artists, with a header parameter based on the token from the previous post request.\n",
    "\n",
    "Given the information about users' artists, we also used the API to obtain information about the related artists. Each artist has values corresponding to four categories: name, followers, popularity, and their genres. The popularity metric is one invented and maintained by Spotify and incorporates a number of factors to get the popularity scaler (int) value in scale 100."
   ]
  },
  {
   "cell_type": "code",
   "execution_count": null,
   "metadata": {
    "id": "w7DvNxeUu9Zi"
   },
   "outputs": [],
   "source": [
    "def token_authHeader(keycreds, creds_dict): \n",
    "    \"\"\"\n",
    "    Constructing a authorization header parameter for the get request. \n",
    "    Params:\n",
    "        keycreds: The key for the credentials.\n",
    "        creds_dict: the credential file.\n",
    "    Return: the header parameter.\n",
    "    \"\"\"\n",
    "    token = creds_dict['token']\n",
    "    authHeader = \"Bearer {}\".format(token)\n",
    "    headerD = {\"Authorization\": authHeader}\n",
    "    return headerD"
   ]
  },
  {
   "cell_type": "code",
   "execution_count": null,
   "metadata": {
    "id": "SOmb7L86u9Zi"
   },
   "outputs": [],
   "source": [
    "def get_artist(keycreds, creds_dict):\n",
    "    \"\"\"\n",
    "    Making a get request to /v1/me/top/artists that contains user's followed artists. \n",
    "    Params:\n",
    "        keycreds: The key for the credentials.\n",
    "        creds_dict: the credential file.\n",
    "    Return: the response json object that contains user's foll.\n",
    "    \"\"\"\n",
    "    authHeaders = token_authHeader(keycreds, creds_dict)\n",
    "    url = util.buildURL(\"/v1/me/top/artists\", \"api.spotify.com\")\n",
    "    paramsD = {'limit':50}\n",
    "    \n",
    "    resp = requests.get(url, headers=authHeaders, params=paramsD)\n",
    "    if resp.status_code != 200:\n",
    "        print(\"Error.  Status code:\", resp.status_code)\n",
    "    return resp.json()"
   ]
  },
  {
   "cell_type": "code",
   "execution_count": null,
   "metadata": {
    "id": "x8Bt_4Dru9Zj"
   },
   "outputs": [],
   "source": [
    "def get_artist_related(artist_id, keycreds, creds_dict):\n",
    "    \"\"\"\n",
    "    Making a get request to /v1/me/top/artists that contains an artist's related artists. \n",
    "    Params:\n",
    "        artist_id: The id for the intital artist. \n",
    "        keycreds: The key for the credentials.\n",
    "        creds_dict: the credential file.\n",
    "    Return: the response json object that contains an artist's related artists.\n",
    "    \"\"\"\n",
    "    authHeaders = token_authHeader(keycreds, creds_dict)\n",
    "    url = util.buildURL(f\"/v1/artists/{artist_id}/related-artists\", \"api.spotify.com\")\n",
    "    resp = requests.get(url, headers=authHeaders)\n",
    "    if resp.status_code != 200:\n",
    "        print(\"Error.  Status code:\", resp.status_code)\n",
    "    return resp.json()"
   ]
  },
  {
   "cell_type": "markdown",
   "metadata": {
    "id": "EFivTEfCu9Zj"
   },
   "source": [
    "### Step 4: Request a refreshed access token\n",
    "\n",
    "This step makes a get request to the token endpoint of the Spotify Accounts service to get a refreshed access token. In this step, the `grant_type` in the body parameter should be set to `refresh_token`."
   ]
  },
  {
   "cell_type": "code",
   "execution_count": null,
   "metadata": {
    "id": "-HazhcQCu9Zk"
   },
   "outputs": [],
   "source": [
    "def refresh_token(keycreds, creds_dict):\n",
    "    \"\"\"\n",
    "    Get a refreshed token dictionary that contains refresh and access tokens \n",
    "            by making a post request to the /api/token endpoint and reading the response as a json object. \n",
    "    Params:\n",
    "        keycreds: The key for the credentials.\n",
    "        creds_dict: The credential from creds.json file.\n",
    "    Return the refreshed token dictionary.\n",
    "    \"\"\"\n",
    "    creds = util.read_creds(keycreds)\n",
    "    assert 'token' in creds\n",
    "    assert 'refresh' in creds\n",
    "\n",
    "    location = \"accounts.spotify.com\"\n",
    "    resource_path = \"/api/token\"\n",
    "    url = util.buildURL(resource_path, location)\n",
    "\n",
    "    auth = HTTPBasicAuth(creds_dict['client-id'], creds_dict['client-secret'])\n",
    "    bodyD = {\n",
    "        'grant_type': 'refresh_token',\n",
    "        'refresh_token': creds['refresh']\n",
    "    }\n",
    "\n",
    "    response = requests.post(url, auth=auth, data=bodyD)\n",
    "    if response.status_code != 200:\n",
    "        print(\"Error.  Status code:\", response.status_code)\n",
    "        print(response.text)\n",
    "    \n",
    "    return response.json()"
   ]
  },
  {
   "cell_type": "code",
   "execution_count": null,
   "metadata": {
    "id": "HQK2INJku9Zk"
   },
   "outputs": [],
   "source": [
    "def save_refresh_token(keycreds, creds_dict):\n",
    "    \"\"\"\n",
    "    Updating the refresh and access token to the credential file. \n",
    "    Params:\n",
    "        keycreds: The key for the credentials.\n",
    "        creds_dict: the credential file.\n",
    "    Return: None.\n",
    "    \"\"\"\n",
    "    tokenD = refresh_token(keycreds, creds_dict)\n",
    "    creds_dict['token'] = tokenD['access_token']\n",
    "    creds_dict['scope'] = tokenD['scope']\n",
    "    expiration = datetime.now() + timedelta(seconds=tokenD['expires_in'])\n",
    "    creds_dict['expires'] = str(expiration)\n",
    "    creds_dict = util.update_creds(\"spotify\", creds_dict)\n",
    "    return None\n",
    "\n",
    "save_refresh_token(\"spotify\", creds)"
   ]
  },
  {
   "cell_type": "markdown",
   "metadata": {
    "id": "FIepNwlFu9Zl"
   },
   "source": [
    "## Fetch data from Spotify API\n",
    "\n",
    "In this step, we want to iterate over all users' keys we got from our friends in the previous steps and use them to get data about Spotify artists. \n",
    "\n",
    "* First, we construct a List of Dictionary that accumulates all the information about the artist objects fetched from the user's artists Spotify endpoint. \n",
    "\n",
    "* Next, we construct a List of Dictionary of tidy information based on the artist objects. These dictionaries should only contain information about the artist's id, name, followers, popularity, and genres. \n",
    "\n",
    "* Then, we tidy the artist's related artists's information from the objects fetched get request previously defined. This is stored in a List of Dictionary. We use a random.choice function to get  only 50 artists from the users' data and then get their related artists. \n",
    "\n",
    "* Having the users' artists and related ones, we concatenate the two lists of dictionary together to build a pandas data frame. The lists can contain duplicates as well as missing values, so the pandas table needs to address those values. "
   ]
  },
  {
   "cell_type": "code",
   "execution_count": null,
   "metadata": {
    "id": "PJYJCn0ku9Zl"
   },
   "outputs": [],
   "source": [
    "def accumulate_artists(keycreds, cred_dict):\n",
    "    \"\"\"\n",
    "    Accumulate all users' artists' data. \n",
    "    Params:\n",
    "        keycreds: The key for the credentials.\n",
    "        creds_dict: the credential file.\n",
    "    Return: List of Dictionary of artist objects.\n",
    "    \"\"\"\n",
    "    artist_obj_LoD = []\n",
    "    keys = []\n",
    "    with open(\"keys.json\", \"r\") as keys_file: \n",
    "        keys_D = json.load(keys_file)\n",
    "        for user in keys_D:\n",
    "            refresh = keys_D[user]\n",
    "            keys.append(refresh) \n",
    "        for key in keys:\n",
    "            creds = util.read_creds(\"spotify\")\n",
    "            creds['refresh'] = key\n",
    "            refresh_token_D = refresh_token(keycreds, creds)\n",
    "            save_refresh_token(keycreds, creds)\n",
    "            artist_D = get_artist(keycreds, creds)\n",
    "            artist_obj_LoD.append(artist_D)\n",
    "    return artist_obj_LoD\n",
    "\n",
    "artist_obj_LoD = accumulate_artists(\"spotify\", creds)"
   ]
  },
  {
   "cell_type": "code",
   "execution_count": null,
   "metadata": {
    "id": "FdorfHKJu9Zm"
   },
   "outputs": [],
   "source": [
    "def generate_artist_LoD(key, artist_obj_LoD):\n",
    "    \"\"\"\n",
    "    Generate a List of Dictionary of all users' artists' tidy data. \n",
    "    Params:\n",
    "        keycreds: The key for the credentials.\n",
    "        creds_dict: the credential file.\n",
    "    Return: List of Dictionary of artist's tidy information.\n",
    "    \"\"\"\n",
    "    LoD = []\n",
    "    for artist_dict in artist_obj_LoD:\n",
    "        items = artist_dict[key]\n",
    "        for item in items:\n",
    "            itemDict = {}\n",
    "            itemDict['id'] = item['id']\n",
    "            itemDict['name'] = item['name']\n",
    "            if len(item['genres']) != 0:\n",
    "                itemDict['genre'] = []\n",
    "                for genre in item['genres']:\n",
    "                    itemDict['genre'].append(genre)\n",
    "            itemDict['followers'] = item['followers']['total']\n",
    "            itemDict['name'] = item['name']\n",
    "            itemDict['pop'] = item['popularity']\n",
    "            LoD.append(itemDict)\n",
    "    return LoD"
   ]
  },
  {
   "cell_type": "code",
   "execution_count": null,
   "metadata": {
    "id": "117kdAXJu9Zm"
   },
   "outputs": [],
   "source": [
    "import random\n",
    "def generate_related_artist_LoD(key, artist_LoD, keycreds, cred_dict):\n",
    "    \"\"\"\n",
    "    Accumulate all users' artists' related artists' data. \n",
    "    Params:\n",
    "        keycreds: The key for the credentials.\n",
    "        creds_dict: the credential file.\n",
    "    Return: List of Dictionary of related artists' tidy data.\n",
    "    \"\"\"\n",
    "    LoD = []\n",
    "    for index in range(50):\n",
    "        artist_D = random.choice(artist_LoD)\n",
    "        artist_id = artist_D['id']\n",
    "        related_artist_D = get_artist_related(artist_id, keycreds, cred_dict)\n",
    "        LoD.append(related_artist_D)\n",
    "    related_artist_LoD = generate_artist_LoD(key, LoD)\n",
    "    return related_artist_LoD"
   ]
  },
  {
   "cell_type": "code",
   "execution_count": null,
   "metadata": {
    "id": "0kJec7q7u9Zm"
   },
   "outputs": [],
   "source": [
    "def concat_artist_LoD():\n",
    "    \"\"\"\n",
    "    Concatenate two lists. \n",
    "    Params: None\n",
    "    Return: concatenated List of Dictionary of all artists.\n",
    "    \"\"\"\n",
    "    artist_LoD = generate_artist_LoD('items', artist_obj_LoD)\n",
    "    related_artist_LoD = generate_related_artist_LoD('artists', artist_LoD, \"spotify\", creds)\n",
    "    for artist_D in artist_LoD:\n",
    "        related_artist_LoD.append(artist_D)\n",
    "    return related_artist_LoD"
   ]
  },
  {
   "cell_type": "code",
   "execution_count": null,
   "metadata": {
    "id": "YgrZKIqQu9Zn"
   },
   "outputs": [],
   "source": [
    "all_artists_LoD = concat_artist_LoD()"
   ]
  },
  {
   "cell_type": "code",
   "execution_count": null,
   "metadata": {
    "id": "1e42KFZru9Zn"
   },
   "outputs": [],
   "source": [
    "import pandas as pd\n",
    "def build_table(LoD):\n",
    "    \"\"\"\n",
    "    Build table from the List of Dictionary. \n",
    "    Param: LoD: List of Dictionary of all artists' tidy data. \n",
    "    Return: The pandas data frame of all artists.\n",
    "    \"\"\"\n",
    "    df = pd.DataFrame(LoD)\n",
    "    df.drop_duplicates('id', inplace=True)\n",
    "    df.dropna(inplace=True)\n",
    "    return df"
   ]
  },
  {
   "cell_type": "code",
   "execution_count": null,
   "metadata": {
    "id": "hIxYzPhwu9Zn"
   },
   "outputs": [],
   "source": [
    "artists_df = build_table(all_artists_LoD)"
   ]
  },
  {
   "cell_type": "code",
   "execution_count": null,
   "metadata": {
    "id": "jYLDMt4_u9Zo",
    "outputId": "e87b1f48-83f3-4df5-b32c-9ff73fbc62bc"
   },
   "outputs": [],
   "source": [
    "artists_df.head(5)"
   ]
  },
  {
   "cell_type": "markdown",
   "metadata": {
    "id": "jOk8IzFru9Zo"
   },
   "source": [
    "## Normalize Dataset\n",
    "\n",
    "The current Data Frame is containing information about the artists' five values: `id`, `name`, `genre`, `followers`, `pop`. \n",
    "\n",
    "**Functional Dependencies:**\n",
    "\n",
    "* id --> name, followers, pop\n",
    "* id --> genre\n",
    "\n",
    "Therefore, in order to have a tidy dataset, we have to split the data frame into two tables corresponding to each functional dependency. The first table contains information about name, followers, and poppularity. The second table contains the combination of id and genre. "
   ]
  },
  {
   "cell_type": "code",
   "execution_count": null,
   "metadata": {
    "id": "fpicuD2_u9Zo"
   },
   "outputs": [],
   "source": [
    "def artists_genres_tables(artists_df):\n",
    "    \"\"\"\n",
    "    Construct artists - genres table from the original dataframe. \n",
    "    Param: artists_df: original dataframe\n",
    "    Return: artists - genres table\n",
    "    \"\"\"\n",
    "    artists_genres = artists_df[['id', 'genre']].copy()\n",
    "    artists_genres.dropna(inplace=True)\n",
    "    LoL = []\n",
    "    for index in range(len(artists_genres)):\n",
    "        for value in artists_genres['genre'].iloc[index]:\n",
    "            L = []\n",
    "            L.append(artists_genres['id'].iloc[index])\n",
    "            L.append(value)\n",
    "            LoL.append(L)\n",
    "    artists_genres_df = pd.DataFrame(LoL, columns=['id','genre'])\n",
    "    return artists_genres_df"
   ]
  },
  {
   "cell_type": "code",
   "execution_count": null,
   "metadata": {
    "id": "pKaZRBcnu9Zp"
   },
   "outputs": [],
   "source": [
    "artists_genres_df = artists_genres_tables(artists_df)"
   ]
  },
  {
   "cell_type": "code",
   "execution_count": null,
   "metadata": {
    "id": "QBkn43tLu9Zp"
   },
   "outputs": [],
   "source": [
    "artists_tidy_df = artists_df.drop(['genre'], axis=1)"
   ]
  },
  {
   "cell_type": "code",
   "execution_count": null,
   "metadata": {
    "id": "KCVjZ9wuu9Zp"
   },
   "outputs": [],
   "source": [
    "def export_to_csv(artists_df):\n",
    "    \"\"\"\n",
    "    Export the two splitted data frames from the original dataframe to csv files. \n",
    "    Param: artists_df: original dataframe\n",
    "    Return: None\n",
    "    \"\"\"\n",
    "    artists_genres_df = artists_genres_tables(artists_df)\n",
    "    artists_df = artists_df.drop(['genre'], axis=1)\n",
    "    artists_df.to_csv(\"artists.csv\", index=False)\n",
    "    artists_genres_df.to_csv(\"artists_genres.csv\", index=False)\n",
    "    return None"
   ]
  },
  {
   "cell_type": "code",
   "execution_count": null,
   "metadata": {
    "id": "lBjZXcy9u9Zp"
   },
   "outputs": [],
   "source": [
    "export_to_csv(artists_df)"
   ]
  },
  {
   "cell_type": "markdown",
   "metadata": {
    "id": "530u86D2u9Zq"
   },
   "source": [
    "## Data from Billboard Website\n",
    "\n",
    "The data for this project comes from the Billboard website. We use a Python package called billboard.py that has up-to-date data from the Billboard website."
   ]
  },
  {
   "cell_type": "markdown",
   "metadata": {
    "id": "RnYu4pjAu9Zq"
   },
   "source": [
    "__Set up: Importing Libraries__"
   ]
  },
  {
   "cell_type": "code",
   "execution_count": null,
   "metadata": {
    "id": "Gc2EiuwJu9Zq"
   },
   "outputs": [],
   "source": [
    "#pip install billboard.py \n",
    "import billboard"
   ]
  },
  {
   "cell_type": "markdown",
   "metadata": {
    "id": "wPBHALdSu9Zq"
   },
   "source": [
    "### Step 1: Get the data\n",
    "\n",
    "In this step, we start off by getting the data of two charts: \"Hot 100\" and \"Digital Song Sales\"."
   ]
  },
  {
   "cell_type": "code",
   "execution_count": null,
   "metadata": {
    "id": "utaHXXqwu9Zr"
   },
   "outputs": [],
   "source": [
    "def get_chart(chartname):\n",
    "    \"\"\"\n",
    "    Get the chart data\n",
    "    \n",
    "    Params: \n",
    "        chartname: Name of the wanted chart\n",
    "        \n",
    "    Return: Chart data\n",
    "    \"\"\"\n",
    "    \n",
    "    chart = billboard.ChartData(chartname) #get chart data\n",
    "    return chart\n",
    "\n",
    "hot100 = get_chart('hot-100') #get 'Hot 100' chart\n",
    "songsales = get_chart('digital-song-sales') #get 'Digital Song Sales' chart"
   ]
  },
  {
   "cell_type": "markdown",
   "metadata": {
    "id": "qKxvecKvu9Zr"
   },
   "source": [
    "### Step 2: Put the data into data frames\n",
    "\n",
    "* First of all, we make a DoL for each of the chart with data such as song's title, artist, rank, peak position, position last week, weeks on chart, and new to chart.\n",
    "\n",
    "* Next, we use pandas to build the data frames and export the clean data frames to csv files."
   ]
  },
  {
   "cell_type": "code",
   "execution_count": null,
   "metadata": {
    "id": "VH3hZ825u9Zr"
   },
   "outputs": [],
   "source": [
    "def process_chart(chart):\n",
    "    \"\"\"\n",
    "    Generate a dictionary to store the chart's data\n",
    "    \n",
    "    Params:\n",
    "        chart: The chart data from previous step\n",
    "        \n",
    "    Return: A dictionary of lists with data of the chart\n",
    "    \"\"\"\n",
    "    \n",
    "    chartD = {} #create an empty dictionary\n",
    "    \n",
    "    #Create multiple empty lists so that we can build a DoL later\n",
    "    title = []\n",
    "    artist = []\n",
    "    rank = []\n",
    "    peakPos = []\n",
    "    lastPos = []\n",
    "    weeks = []\n",
    "    isNew = []\n",
    "    \n",
    "    #Use a for loop to get and append data to lists\n",
    "    for i in range(len(chart)):\n",
    "        title.append(chart[i].title) #get song's title\n",
    "        artist.append(chart[i].artist) #name of artist\n",
    "        rank.append(chart[i].rank) #get song's current rank\n",
    "        peakPos.append(chart[i].peakPos) #track's peak position on the chart as of the chart date\n",
    "        lastPos.append(chart[i].lastPos) #track's position the previous week\n",
    "        weeks.append(chart[i].weeks) #number of weeks that track has been on the chart\n",
    "        isNew.append(chart[i].isNew) #whether track is new to the chart or not\n",
    "    \n",
    "    #Build DoL\n",
    "    chartD['Rank'] = rank\n",
    "    chartD['Song Title'] = title\n",
    "    chartD['Artist'] = artist\n",
    "    chartD['New To Chart'] = isNew\n",
    "    chartD['Peak Position'] = peakPos\n",
    "    chartD['Position Last Week'] = lastPos\n",
    "    chartD['Weeks On Chart'] = weeks\n",
    "    return chartD\n",
    "\n",
    "hot100D = process_chart(hot100)\n",
    "songsalesD = process_chart(songsales)"
   ]
  },
  {
   "cell_type": "code",
   "execution_count": null,
   "metadata": {
    "id": "0AkOOI8Ju9Zr"
   },
   "outputs": [],
   "source": [
    "def build_df(chartD):\n",
    "    \"\"\"\n",
    "    Build a data frame from the DoL\n",
    "    \n",
    "    Params: \n",
    "        chartD: A DoL with chart's data\n",
    "        \n",
    "    Return: A data frame for each chart\n",
    "    \"\"\"\n",
    "    \n",
    "    df = pd.DataFrame(chartD) #build data frame\n",
    "    df = df.set_index('Rank') #set data frame's index\n",
    "    return df"
   ]
  },
  {
   "cell_type": "code",
   "execution_count": null,
   "metadata": {
    "id": "7KlYhwQ5u9Zs",
    "outputId": "359176cb-7cf7-49cd-be95-f6a7a2d4f2d2"
   },
   "outputs": [],
   "source": [
    "hot100DF = build_df(hot100D)\n",
    "hot100DF.head(5) #show the first 5 rows of data frame"
   ]
  },
  {
   "cell_type": "markdown",
   "metadata": {
    "id": "K8P9A3miu9Zs"
   },
   "source": [
    "Functional Dependency: \n",
    "\n",
    "Song Title -> Rank, Artist, New To Chart, Peak Position, Position Last Week, Weeks On Chart"
   ]
  },
  {
   "cell_type": "code",
   "execution_count": null,
   "metadata": {
    "id": "wipVxD9ku9Zs",
    "outputId": "08ade222-b854-478f-a744-6aa5bd98c07b"
   },
   "outputs": [],
   "source": [
    "songsalesDF = build_df(songsalesD)\n",
    "songsalesDF.head(5) #show the first 5 rows of data frame"
   ]
  },
  {
   "cell_type": "markdown",
   "metadata": {
    "id": "IlGX7emlu9Zs"
   },
   "source": [
    "Functional Dependency: \n",
    "\n",
    "Song Title -> Rank, Artist, New To Chart, Peak Position, Position Last Week, Weeks On Chart"
   ]
  },
  {
   "cell_type": "code",
   "execution_count": null,
   "metadata": {
    "id": "Z03wdQ5ku9Zt"
   },
   "outputs": [],
   "source": [
    "def to_csv():\n",
    "    \"\"\"\n",
    "    Generate a CSV file of the data frame in the current folder \n",
    "    \n",
    "    Params: None\n",
    "    \n",
    "    Return: None\n",
    "    \"\"\"\n",
    "    hot100DF.to_csv(\"hot100.csv\")\n",
    "    songsalesDF.to_csv(\"songsales.csv\")\n",
    "to_csv()"
   ]
  },
  {
   "cell_type": "markdown",
   "metadata": {
    "id": "3A3ZZZA1u9Zt"
   },
   "source": [
    "## Data Exploration\n",
    "\n",
    "### Spotify\n",
    "This part is to explore the tidy data frames from the previous step. In this part, we will first look at the aggregate values for followers and popularity as well as the number of distinct genres. Next, we will construct two histograms for the popularity and followers variable to understand the distribution of those two. "
   ]
  },
  {
   "cell_type": "code",
   "execution_count": null,
   "metadata": {
    "id": "EeYcFyrFu9Zt",
    "outputId": "3497bdbd-26b3-4dde-b2d7-b964d284b67f"
   },
   "outputs": [],
   "source": [
    "artists_tidy_df.agg({'followers': ['max', 'min', 'mean'], 'pop':['max', 'min', 'mean']})"
   ]
  },
  {
   "cell_type": "code",
   "execution_count": null,
   "metadata": {
    "id": "dTQ-Tx5Bu9Zu",
    "outputId": "d05d0565-f97c-48c3-e8dc-a30f4b03a624"
   },
   "outputs": [],
   "source": [
    "len(artists_genres_df['genre'].unique())"
   ]
  },
  {
   "cell_type": "markdown",
   "metadata": {
    "id": "3pAtmFX8u9Zu"
   },
   "source": [
    "**Interpretation:** The most popular artist have a rate of popularity of 100, and the least popular has only 18 points. The average popularity rate is 66.5. The artist with the most followers have over 70 thousands followers, while the artist with the least followers have only over 300 ones. In average, they have about 3 thousand followers.  "
   ]
  },
  {
   "cell_type": "code",
   "execution_count": null,
   "metadata": {
    "id": "eF2szQnGu9Zu"
   },
   "outputs": [],
   "source": [
    "import matplotlib.pyplot as pyplot"
   ]
  },
  {
   "cell_type": "code",
   "execution_count": null,
   "metadata": {
    "id": "V4POHjJju9Zu"
   },
   "outputs": [],
   "source": [
    "def myhistogram(value_set, bins=25): \n",
    "    \"\"\"\n",
    "    Create, compute, and returns a list of histogram counts. \n",
    "    Parameters: \n",
    "        value_set: the set of values to compute histogram bins. \n",
    "        bins: the specified number of bins. \n",
    "    Return: the list of histogram counts.\n",
    "    \"\"\"\n",
    "    # Compute max, min, range value\n",
    "    value_max = max(value_set)\n",
    "    value_min = min(value_set)\n",
    "    value_range = value_max - value_min\n",
    "    \n",
    "    # Compute interval and value of the bin corresponding to the value\n",
    "    interval = value_range / bins\n",
    "    value_bin = lambda x, interval: int((x - value_min)//interval) if x != value_max else int((x - value_min)/interval - 1)\n",
    "    \n",
    "    hist_count = [0 for i in range(bins)] #populate the initial list\n",
    "    \n",
    "    # Generate values for the histogram\n",
    "    for value in value_set:\n",
    "        b = value_bin(value, interval)\n",
    "        hist_count[b] += 1\n",
    "    return hist_count"
   ]
  },
  {
   "cell_type": "code",
   "execution_count": null,
   "metadata": {
    "id": "XxwjmLduu9Zu"
   },
   "outputs": [],
   "source": [
    "#Use matplotlib to show the graph\n",
    "def construct_histogram(num_bins, val_list):\n",
    "    \"\"\"\n",
    "    Construct a histogram from the value list by the number of bins. \n",
    "    Params: \n",
    "        num_bins: number of bins\n",
    "        val_list: list of values\n",
    "    Return: a matplotlib histogram\n",
    "    \"\"\"\n",
    "    interval = (max(val_list) - min(val_list)) / num_bins\n",
    "    x_values = [min(val_list) + (i * interval) + interval/2 for i in range(num_bins)]\n",
    "    pyplot.bar(x_values, bin_values, width=(0.8 * interval))\n",
    "    pyplot.show()"
   ]
  },
  {
   "cell_type": "code",
   "execution_count": null,
   "metadata": {
    "id": "zsPr5XSeu9Zv",
    "outputId": "cdce83b0-4e48-423c-bc64-909bd0ee62a6"
   },
   "outputs": [],
   "source": [
    "# Read the csv file, get a list of the popularity column and calculate bins\n",
    "num_bins = 25\n",
    "followers_list = list(artists_df['followers'])\n",
    "bin_values = myhistogram(val_list, num_bins)\n",
    "\n",
    "#Use matplotlib to show the graph\n",
    "bins = num_bins\n",
    "interval = (max(followers_list) - min(followers_list)) / num_bins\n",
    "x_values = [min(followers_list) + (i * interval) + interval/2 for i in range(bins)]\n",
    "pyplot.bar(x_values, bin_values, width=(0.8 * interval))\n",
    "pyplot.show()"
   ]
  },
  {
   "cell_type": "code",
   "execution_count": null,
   "metadata": {
    "id": "6a0OslpRu9Zv",
    "outputId": "b1dcbaa3-e139-41ef-f2f5-4765c3454a48"
   },
   "outputs": [],
   "source": [
    "# Read the csv file, get a list of the popularity column and calculate bins\n",
    "num_bins = 25\n",
    "pop_list = list(artists_df['pop'])\n",
    "bin_values = myhistogram(val_list1, num_bins)\n",
    "\n",
    "#Use matplotlib to show the graph\n",
    "bins = num_bins\n",
    "interval = (max(pop_list) - min(pop_list)) / num_bins\n",
    "x_values = [min(pop_list) + (i * interval) + interval/2 for i in range(bins)]\n",
    "pyplot.bar(x_values, bin_values, width=(0.8 * interval))\n",
    "pyplot.show()"
   ]
  },
  {
   "cell_type": "markdown",
   "metadata": {
    "id": "YRXHJr5wu9Zw"
   },
   "source": [
    "**Interpretation**: The two histograms both show that most of the artists have a small number of followers and a low rate of popularity. The higher number of followers or rate of popularity, the fewer artists appear. We also notice that the distributions of the two variables are quite similar, suggesting that there might be a relationship between those two. We would continue to look into this in the next part: data analysis. "
   ]
  },
  {
   "cell_type": "markdown",
   "metadata": {
    "id": "jSu0Xs-Du9Zw"
   },
   "source": [
    "### Billboard\n",
    "In terms of the Billboard's data, we will construct one histogram of the Number of weeks on \"Hot 100\" chart variable to gain insights into its distribution. "
   ]
  },
  {
   "cell_type": "code",
   "execution_count": null,
   "metadata": {
    "id": "vgVpBRNfu9Zw",
    "outputId": "47143468-d37d-4eb4-8b8f-12912cd73bdd"
   },
   "outputs": [],
   "source": [
    "# Read the csv file, get a list of the popularity column and calculate bins\n",
    "num_bins = 25\n",
    "df = pd.read_csv(\"hot100.csv\")\n",
    "val_list = list(df['Weeks On Chart'])\n",
    "bin_values = myhistogram(val_list, num_bins)\n",
    "\n",
    "#Use matplotlib to show the graph\n",
    "bins = num_bins\n",
    "interval = (max(val_list) - min(val_list)) / num_bins\n",
    "x_values = [min(val_list) + (i * interval) + interval/2 for i in range(bins)]\n",
    "pyplot.bar(x_values, bin_values, width=(0.8 * interval))\n",
    "pyplot.show()"
   ]
  }
 ],
 "metadata": {
  "colab": {
   "name": "final_project.ipynb",
   "provenance": []
  },
  "kernelspec": {
   "display_name": "Python 3 (ipykernel)",
   "language": "python",
   "name": "python3"
  },
  "language_info": {
   "codemirror_mode": {
    "name": "ipython",
    "version": 3
   },
   "file_extension": ".py",
   "mimetype": "text/x-python",
   "name": "python",
   "nbconvert_exporter": "python",
   "pygments_lexer": "ipython3",
   "version": "3.9.7"
  }
 },
 "nbformat": 4,
 "nbformat_minor": 4
}
